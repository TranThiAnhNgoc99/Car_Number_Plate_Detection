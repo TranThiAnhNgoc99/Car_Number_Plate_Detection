{
 "cells": [
  {
   "cell_type": "code",
   "execution_count": 2,
   "metadata": {},
   "outputs": [],
   "source": [
    "import cv2\n",
    "import os\n",
    "import pickle\n",
    "import random\n",
    "from sklearn.model_selection import train_test_split\n",
    "from sklearn.svm import SVC\n",
    "import numpy as np\n",
    "import matplotlib.pyplot as plt\n",
    "import time\n",
    "import pytesseract\n",
    "from lib_detection import load_model, detect_lp, im2single"
   ]
  },
  {
   "cell_type": "markdown",
   "metadata": {},
   "source": [
    "# load file weight, cfg, file chứa tên class (bienSo)"
   ]
  },
  {
   "cell_type": "code",
   "execution_count": 6,
   "metadata": {},
   "outputs": [],
   "source": [
    "# Load Yolo\n",
    "net = cv2.dnn.readNet(\"result/yolov3_training_last.weights\", \"config/yolov3_testing.cfg\")\n",
    "# Name custom object\n",
    "classes = [\"bienSo\"]\n",
    "with open(\"config/coco.names\", \"r\") as f:\n",
    "    classes = [line.strip() for line in f.readlines()]\n",
    "layer_names = net.getLayerNames()\n",
    "output_layers = [layer_names[i[0] - 1] for i in net.getUnconnectedOutLayers()]"
   ]
  },
  {
   "cell_type": "code",
   "execution_count": 7,
   "metadata": {},
   "outputs": [],
   "source": [
    "pytesseract.tesseract_cmd = r\"tesseract-ocr-w64-setup-v5.0.0-alpha.20210506.exe\"        \n",
    "pytesseract.tesseract_cmd = r\"C:\\Program Files\\Tesseract-OCR\\tesseract.exe\""
   ]
  },
  {
   "cell_type": "markdown",
   "metadata": {},
   "source": [
    "# Cấu hình tham số cho model SVM"
   ]
  },
  {
   "cell_type": "code",
   "execution_count": 50,
   "metadata": {},
   "outputs": [],
   "source": [
    "digit_w = 50 # Kich thuoc ki tu\n",
    "digit_h = 50 # Kich thuoc ki tu\n",
    "\n",
    "pick1 = open('SVMtrain/model.xml', 'rb')\n",
    "model = pickle.load(pick1)\n",
    "pick1.close()"
   ]
  },
  {
   "cell_type": "markdown",
   "metadata": {},
   "source": [
    "# Định nghĩa các kí tự trên biển số"
   ]
  },
  {
   "cell_type": "code",
   "execution_count": 51,
   "metadata": {},
   "outputs": [],
   "source": [
    "char_list =  '0123456789ABCDEFGHKLMNPRSTUVXYZ'\n"
   ]
  },
  {
   "cell_type": "markdown",
   "metadata": {},
   "source": [
    "# Hàm sxep contour từ trái sang phải"
   ]
  },
  {
   "cell_type": "code",
   "execution_count": 52,
   "metadata": {},
   "outputs": [],
   "source": [
    "def sort_contours(cnts):\n",
    "\n",
    "    reverse = False\n",
    "    i = 0\n",
    "    boundingBoxes = [cv2.boundingRect(c) for c in cnts]\n",
    "    (cnts, boundingBoxes) = zip(*sorted(zip(cnts, boundingBoxes),\n",
    "                                        key=lambda b: b[1][i], reverse=reverse))\n",
    "    return cnts"
   ]
  },
  {
   "cell_type": "markdown",
   "metadata": {},
   "source": [
    "# hàm loại bỏ các kí tự không hợp lý"
   ]
  },
  {
   "cell_type": "code",
   "execution_count": 53,
   "metadata": {},
   "outputs": [],
   "source": [
    "def fine_tune(lp):\n",
    "    newString = \"\"\n",
    "    for i in range(len(lp)):\n",
    "        if lp[i] in char_list:\n",
    "            newString += lp[i]\n",
    "    return newString"
   ]
  },
  {
   "cell_type": "markdown",
   "metadata": {},
   "source": [
    "# Hàm tách và nhận diện kí tự kí tự"
   ]
  },
  {
   "cell_type": "code",
   "execution_count": 54,
   "metadata": {},
   "outputs": [],
   "source": [
    "\n",
    "def character_separator(bienSo):\n",
    "    if (len(bienSo)):\n",
    "\n",
    "        gray = cv2.cvtColor(bienSo,cv2.COLOR_BGR2GRAY)\n",
    "        # Ap dung threshold de phan tach so va nen\n",
    "        binary = cv2.threshold(gray, 127, 255,\n",
    "                     cv2.THRESH_BINARY_INV)[1]\n",
    "\n",
    "        # Segment kí tự\n",
    "        kernel3 = cv2.getStructuringElement(cv2.MORPH_RECT , (3, 3))\n",
    "        thre_mor = cv2.morphologyEx(binary, cv2.MORPH_DILATE, kernel3, iterations = 0)\n",
    "\n",
    "        cont, _  = cv2.findContours(thre_mor, cv2.RETR_LIST, cv2.CHAIN_APPROX_SIMPLE)\n",
    "\n",
    "        anhtam = []\n",
    "        data_temp = []\n",
    "        plate_info = \"\"\n",
    "        reverse = False\n",
    "        i = 0\n",
    "        print(len(cont))\n",
    "        for c in cont:\n",
    "            (x2, y2, w2, h2) = cv2.boundingRect(c)\n",
    "            ratio = h2/w2\n",
    "            if 1.5<=ratio<=4: # Chon cac contour dam bao ve ratio w/h\n",
    "                if h2/bienSo.shape[0]>=0.65: # Chon cac contour cao tu 65% bien so tro len\n",
    "\n",
    "                    # Ve khung chu nhat quanh so\n",
    "                    cv2.rectangle(bienSo, (x2, y2), (x2 + w2, y2 + h2), (0, 255, 0), 1)\n",
    "                    plt.imshow( bienSo)\n",
    "                    # Tach so \n",
    "                    curr_num = thre_mor[y2:y2+h2,x2:x2+w2]\n",
    "                    curr_num = cv2.resize(curr_num, dsize=(digit_w, digit_h))\n",
    "                    _, curr_num = cv2.threshold(curr_num, 30, 255, cv2.THRESH_BINARY)\n",
    "                    im = cv2.resize(curr_num, (50,50))\n",
    "                    image = np.array(im).flatten()\n",
    "                    data_temp.append(image)\n",
    "                    anhtam.append(im)\n",
    "\n",
    "        #predict\n",
    "        prediction = model.predict(data_temp)\n",
    "        print('Prediction is: \\n', prediction)\n",
    "        for i in range(len(prediction)):\n",
    "            result = str(categories[prediction[i]])\n",
    "            plate_info +=result\n",
    "        #dao nguoc day so\n",
    "        text = plate_info[::-1]\n",
    "        return text\n",
    "                "
   ]
  },
  {
   "cell_type": "markdown",
   "metadata": {},
   "source": [
    "# Hàm tìm biển số"
   ]
  },
  {
   "cell_type": "code",
   "execution_count": 55,
   "metadata": {},
   "outputs": [],
   "source": [
    "def detect(img, width, height):\n",
    "    # Detecting objects\n",
    "    blob = cv2.dnn.blobFromImage(img, 0.00392, (416, 416), (0, 0, 0), True, crop=False)\n",
    "    net.setInput(blob)\n",
    "    output_layers = net.getUnconnectedOutLayersNames()\n",
    "    outs = net.forward(output_layers)\n",
    "\n",
    "    # Showing informations on the screen\n",
    "    class_ids = []\n",
    "    confidences = []\n",
    "    boxes = []\n",
    "    for out in outs:\n",
    "        for detection in out:\n",
    "            scores = detection[5:]\n",
    "            class_id = np.argmax(scores)\n",
    "            confidence = scores[class_id]\n",
    "            if confidence > 0.3:\n",
    "                # Object detected\n",
    "                center_x = int(detection[0] * width)\n",
    "                center_y = int(detection[1] * height)\n",
    "                w = int(detection[2] * width)\n",
    "                h = int(detection[3] * height)\n",
    "\n",
    "                # Rectangle coordinates\n",
    "                x = int(center_x - w / 2)\n",
    "                y = int(center_y - h / 2)\n",
    "                boxes.append([x, y, w, h])\n",
    "                confidences.append(float(confidence))\n",
    "                class_ids.append(class_id)\n",
    "\n",
    "    indexes = cv2.dnn.NMSBoxes(boxes, confidences, 0.5, 0.4)\n",
    "    font = cv2.FONT_HERSHEY_PLAIN\n",
    "    for i in range(len(boxes)):\n",
    "        if i in indexes:\n",
    "            x, y, w, h = boxes[i]\n",
    "            label = str(classes[class_ids[i]])\n",
    "            confidence = str(round(confidences[i],2))\n",
    "            color = (0, 255, 0)\n",
    "            cv2.rectangle(img, (x, y), (x + w, y + h), color, 1)\n",
    "\n",
    "            im = img[y:(y+h), x:(x+w)]\n",
    "            plt.imshow(im)\n",
    "            #gray = cv2.cvtColor(im,cv2.COLOR_BGR2GRAY)\n",
    "            #text = pytesseract.image_to_string(gray, config='--psm 11')\n",
    "            text = character_separator(im)\n",
    "            print(\"Detected Number is:\",text)\n",
    "            #cv2.putText(img, label + \" \" + confidence , (x, y - 5), font, 1, color, 1)\n",
    "            cv2.putText(img, fine_tune(text), (x, y - 5), font, 2, color, 1)\n",
    "           # character_separator(im)"
   ]
  },
  {
   "cell_type": "markdown",
   "metadata": {},
   "source": [
    "# đọc biển số trên ảnh tĩnh"
   ]
  },
  {
   "cell_type": "code",
   "execution_count": null,
   "metadata": {},
   "outputs": [
    {
     "name": "stdout",
     "output_type": "stream",
     "text": [
      "13\n",
      "Prediction is: \n",
      " [ 5  7  7  5  5 15  0  3]\n",
      "Detected Number is: 30F55775\n"
     ]
    },
    {
     "data": {
      "image/png": "[encoded data removed]",
      "text/plain": [
       "<Figure size 432x288 with 1 Axes>"
      ]
     },
     "metadata": {
      "needs_background": "light"
     },
     "output_type": "display_data"
    }
   ],
   "source": [
    "img = cv2.imread(r\"anhTest/f.jpg\")\n",
    "img = cv2.resize(img, None, fx=0.4, fy=0.4)\n",
    "height, width, channels = img.shape\n",
    "detect(img, width, height)  \n",
    "plt.figure(figsize=(16, 12))       \n",
    "plt.imshow(img)\n",
    "\n",
    "plt.show()\n"
   ]
  },
  {
   "cell_type": "markdown",
   "metadata": {},
   "source": [
    "# Đọc biển số qua webcam"
   ]
  },
  {
   "cell_type": "code",
   "execution_count": 6,
   "metadata": {},
   "outputs": [
    {
     "name": "stdout",
     "output_type": "stream",
     "text": [
      "Detected Number is: AUS Oe\n",
      "\f",
      "\n",
      "Detected Number is: 8 A-044.54\n",
      "\f",
      "\n",
      "Detected Number is: 8 A-044.54,\n",
      "\f",
      "\n",
      "Detected Number is: 8 A-044.54\n",
      "\f",
      "\n",
      "Detected Number is: 1044.54\n",
      "\f",
      "\n",
      "Detected Number is: \f",
      "\n",
      "Detected Number is: \f",
      "\n",
      "Detected Number is: \f",
      "\n",
      "Detected Number is: 8 A-044 54\n",
      "\f",
      "\n",
      "Detected Number is: 8 A-O44 5\n",
      "\f",
      "\n",
      "Detected Number is: 4-044.5/\n",
      "\f",
      "\n",
      "Detected Number is: 044.54,\n",
      "\f",
      "\n",
      "Detected Number is: \f",
      "\n",
      "Detected Number is: 044.54\n",
      "\f",
      "\n",
      "Detected Number is: \f",
      "\n",
      "Detected Number is: 18 A-044.54|\n",
      "\f",
      "\n",
      "Detected Number is: 78 A-04454\n",
      "\f",
      "\n",
      "Detected Number is: 8 A-044-54\n",
      "\f",
      "\n",
      "Detected Number is: 044.54,\n",
      "\f",
      "\n",
      "Detected Number is: B8 A-044.54\n",
      "\f",
      "\n",
      "Detected Number is: BE A-044.54'\n",
      "\f",
      "\n",
      "Detected Number is: & A-044.54\n",
      "\f",
      "\n",
      "Detected Number is: \f",
      "\n",
      "Detected Number is: \f",
      "\n",
      "Detected Number is: \f",
      "\n",
      "Detected Number is: \f",
      "\n",
      "Detected Number is: \f",
      "\n",
      "Detected Number is: 5 AN//c\n",
      "\f",
      "\n",
      "Detected Number is: BAL LRT\n",
      "\f",
      "\n",
      "Detected Number is: 84-044 54\n",
      "\f",
      "\n",
      "Detected Number is: BAN / Fy\n",
      "\f",
      "\n",
      "Detected Number is: \f",
      "\n",
      "Detected Number is: 3 A-044.54\n",
      "\f",
      "\n",
      "Detected Number is: \f",
      "\n",
      "Detected Number is: 8 A-044.54)\n",
      "\f",
      "\n",
      "Detected Number is: \f",
      "\n",
      "Detected Number is: A A-04454.]\n",
      "\f",
      "\n",
      "Detected Number is: 8 A-044:54\n",
      "\f",
      "\n",
      "Detected Number is: \f",
      "\n",
      "Detected Number is: Hl\n",
      "\f",
      "\n",
      "Detected Number is: A044.54\n",
      "\f",
      "\n",
      "Detected Number is: 6 A-044.54\n",
      "\f",
      "\n",
      "Detected Number is: \\-044.54\n",
      "\f",
      "\n",
      "Detected Number is: 8 A-044.54\n",
      "\f",
      "\n",
      "Detected Number is: 8 A-044:54\n",
      "\f",
      "\n",
      "Detected Number is: 8.A-044-54\n",
      "\f",
      "\n",
      "Detected Number is: 8, A-044.54\n",
      "\f",
      "\n",
      "Detected Number is: 8A-044.54\n",
      "\f",
      "\n",
      "Detected Number is: \f",
      "\n",
      "Detected Number is: 51F-970.22\n",
      "\f",
      "\n",
      "Detected Number is: 51F-970.22\n",
      "\f",
      "\n",
      "Detected Number is: 51F-970.22\n",
      "\f",
      "\n",
      "Detected Number is: 51F-970.22\n",
      "\f",
      "\n",
      "Detected Number is: 51F-970.22\n",
      "\f",
      "\n",
      "Detected Number is: 5IF-970.22\n",
      "\f",
      "\n",
      "Detected Number is: BIF-970,22]\n",
      "\f",
      "\n",
      "Detected Number is: 51F-970.22\n",
      "\f",
      "\n",
      "Detected Number is: 51F-970.22\n",
      "\f",
      "\n",
      "Detected Number is: 51F-970.22\n",
      "\f",
      "\n",
      "Detected Number is: 51F-970.22\n",
      "\f",
      "\n",
      "Detected Number is: (51F-970.22\n",
      "\f",
      "\n"
     ]
    },
    {
     "ename": "KeyboardInterrupt",
     "evalue": "",
     "output_type": "error",
     "traceback": [
      "\u001b[1;31m---------------------------------------------------------------------------\u001b[0m",
      "\u001b[1;31mKeyboardInterrupt\u001b[0m                         Traceback (most recent call last)",
      "\u001b[1;32m<ipython-input-6-adceda706fc9>\u001b[0m in \u001b[0;36m<module>\u001b[1;34m\u001b[0m\n\u001b[0;32m     18\u001b[0m     \u001b[1;32mif\u001b[0m \u001b[0mw\u001b[0m \u001b[1;32mis\u001b[0m \u001b[1;32mNone\u001b[0m \u001b[1;32mor\u001b[0m \u001b[0mh\u001b[0m \u001b[1;32mis\u001b[0m \u001b[1;32mNone\u001b[0m\u001b[1;33m:\u001b[0m\u001b[1;33m\u001b[0m\u001b[1;33m\u001b[0m\u001b[0m\n\u001b[0;32m     19\u001b[0m         \u001b[0mh\u001b[0m\u001b[1;33m,\u001b[0m \u001b[0mw\u001b[0m \u001b[1;33m=\u001b[0m \u001b[0mframe\u001b[0m\u001b[1;33m.\u001b[0m\u001b[0mshape\u001b[0m\u001b[1;33m[\u001b[0m\u001b[1;33m:\u001b[0m\u001b[1;36m2\u001b[0m\u001b[1;33m]\u001b[0m\u001b[1;33m\u001b[0m\u001b[1;33m\u001b[0m\u001b[0m\n\u001b[1;32m---> 20\u001b[1;33m     \u001b[0mdetect\u001b[0m\u001b[1;33m(\u001b[0m\u001b[0mframe\u001b[0m\u001b[1;33m,\u001b[0m \u001b[0mw\u001b[0m\u001b[1;33m,\u001b[0m \u001b[0mh\u001b[0m\u001b[1;33m)\u001b[0m\u001b[1;33m\u001b[0m\u001b[1;33m\u001b[0m\u001b[0m\n\u001b[0m\u001b[0;32m     21\u001b[0m \u001b[1;33m\u001b[0m\u001b[0m\n\u001b[0;32m     22\u001b[0m     \u001b[0mcv2\u001b[0m\u001b[1;33m.\u001b[0m\u001b[0mimshow\u001b[0m\u001b[1;33m(\u001b[0m\u001b[1;34m'frame'\u001b[0m\u001b[1;33m,\u001b[0m\u001b[0mframe\u001b[0m\u001b[1;33m)\u001b[0m\u001b[1;33m\u001b[0m\u001b[1;33m\u001b[0m\u001b[0m\n",
      "\u001b[1;32m<ipython-input-3-c5c8b23643c7>\u001b[0m in \u001b[0;36mdetect\u001b[1;34m(img, width, height)\u001b[0m\n\u001b[0;32m      4\u001b[0m     \u001b[0mnet\u001b[0m\u001b[1;33m.\u001b[0m\u001b[0msetInput\u001b[0m\u001b[1;33m(\u001b[0m\u001b[0mblob\u001b[0m\u001b[1;33m)\u001b[0m\u001b[1;33m\u001b[0m\u001b[1;33m\u001b[0m\u001b[0m\n\u001b[0;32m      5\u001b[0m     \u001b[0moutput_layers\u001b[0m \u001b[1;33m=\u001b[0m \u001b[0mnet\u001b[0m\u001b[1;33m.\u001b[0m\u001b[0mgetUnconnectedOutLayersNames\u001b[0m\u001b[1;33m(\u001b[0m\u001b[1;33m)\u001b[0m\u001b[1;33m\u001b[0m\u001b[1;33m\u001b[0m\u001b[0m\n\u001b[1;32m----> 6\u001b[1;33m     \u001b[0mouts\u001b[0m \u001b[1;33m=\u001b[0m \u001b[0mnet\u001b[0m\u001b[1;33m.\u001b[0m\u001b[0mforward\u001b[0m\u001b[1;33m(\u001b[0m\u001b[0moutput_layers\u001b[0m\u001b[1;33m)\u001b[0m\u001b[1;33m\u001b[0m\u001b[1;33m\u001b[0m\u001b[0m\n\u001b[0m\u001b[0;32m      7\u001b[0m \u001b[1;33m\u001b[0m\u001b[0m\n\u001b[0;32m      8\u001b[0m     \u001b[1;31m# Showing informations on the screen\u001b[0m\u001b[1;33m\u001b[0m\u001b[1;33m\u001b[0m\u001b[1;33m\u001b[0m\u001b[0m\n",
      "\u001b[1;31mKeyboardInterrupt\u001b[0m: "
     ]
    }
   ],
   "source": [
    "\n",
    "#lấy hình ảnh từ camera đầu tiên\n",
    "cap = cv2.VideoCapture(0)\n",
    "# Preparing variables for spatial dimensions of the frames\n",
    "h, w = None, None\n",
    "\n",
    "\n",
    "probability_minimum = 0.5\n",
    "threshold = 0.3\n",
    "colours = np.random.randint(0, 255, size=(len(classes), 3), dtype='uint8')\n",
    "f = 0\n",
    "t = 0\n",
    "while True:\n",
    "    # Capturing frame-by-frame from camera\n",
    "    ret, frame = cap.read()\n",
    "    if not ret:\n",
    "        break\n",
    "    if w is None or h is None:\n",
    "        h, w = frame.shape[:2]\n",
    "    detect(frame, w, h)\n",
    "        \n",
    "    cv2.imshow('frame',frame)\n",
    "    if cv2.waitKey(1) & 0xFF == ord('q'):\n",
    "        break\n",
    "cap.release()\n",
    "cv2.destroyAllWindows()"
   ]
  }
 ],
 "metadata": {
  "kernelspec": {
   "display_name": "Python 3",
   "language": "python",
   "name": "python3"
  },
  "language_info": {
   "codemirror_mode": {
    "name": "ipython",
    "version": 3
   },
   "file_extension": ".py",
   "mimetype": "text/x-python",
   "name": "python",
   "nbconvert_exporter": "python",
   "pygments_lexer": "ipython3",
   "version": "3.7.1"
  }
 },
 "nbformat": 4,
 "nbformat_minor": 2
}
